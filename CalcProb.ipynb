{
 "cells": [
  {
   "cell_type": "code",
   "execution_count": null,
   "metadata": {},
   "outputs": [],
   "source": [
    "%load_ext lab_black\n",
    "\n",
    "import math\n",
    "import random\n",
    "\n",
    "import matplotlib\n",
    "import matplotlib.pyplot as plt\n",
    "import numpy as np\n",
    "import pandas as pd\n",
    "\n",
    "import dask.dataframe as dd\n",
    "\n",
    "# 给定一个半径为r的圆，AB是一条随机选出的弦，求其长度大于圆内接等边三角形边长sqrt(3)r的概率P"
   ]
  },
  {
   "cell_type": "code",
   "execution_count": 4,
   "metadata": {},
   "outputs": [],
   "source": [
    "# 根据(x1,y1)和(x2,y2)两点计算直线方程\n",
    "def lineEquationByDots(x1, y1, x2, y2):\n",
    "    a = y2 - y1\n",
    "    b = x1 - x2\n",
    "    c = x2 * y1 - x1 * y2\n",
    "    return a, b, c"
   ]
  },
  {
   "cell_type": "code",
   "execution_count": 5,
   "metadata": {},
   "outputs": [],
   "source": [
    "# 根据点(x1,y1)和直线与X轴的夹角theta计算直线方程\n",
    "# 当theta接近0度或者90度的时候，计算出来的结果会有无限接近0的情况\n",
    "def lineEquationByDotAndDegree(x1, y1, theta):\n",
    "    x2, y2 = np.cos(theta) + x1, np.sin(theta) + y1\n",
    "    return lineEquationByDots(x1, y1, x2, y2)"
   ]
  },
  {
   "cell_type": "code",
   "execution_count": 6,
   "metadata": {},
   "outputs": [],
   "source": [
    "# 点(X0,Y0)到直线 ax + by + c = 0的距离公式\n",
    "def pointDistanceToline(a, b, c, X0, Y0):\n",
    "    return abs(a * X0 + b * Y0 + c) / math.sqrt(a * a + b * b)"
   ]
  },
  {
   "cell_type": "code",
   "execution_count": 7,
   "metadata": {},
   "outputs": [],
   "source": [
    "# 直线 ax + by + c = 0 和圆 x*x + y*y = r*r 相交的弦长平方公式\n",
    "def chordSquaredValue(a, b, c, r):\n",
    "    return (r * r - c * c / (a * a + b * b)) * 2"
   ]
  },
  {
   "cell_type": "code",
   "execution_count": 8,
   "metadata": {},
   "outputs": [],
   "source": [
    "# 计算直线 ax + by + c = 0 和 圆 x*x + y*y = 1 的交点\n",
    "def lineCircleDots(a, b, c):\n",
    "    sqrt = (2 * a * c) * (2 * a * c) - 4 * (a * a + b * b) * (c * c - b * b)\n",
    "    if sqrt < 0:\n",
    "        return None\n",
    "    sqrt = math.sqrt(sqrt)\n",
    "    x1 = (-2 * a * c + sqrt) / (2 * (a * a + b * b))\n",
    "    x2 = (-2 * a * c - sqrt) / (2 * (a * a + b * b))\n",
    "    y1 = -1 * (x1 * a + c) / b\n",
    "    y2 = -1 * (x2 * a + c) / b\n",
    "    return x1, y1, x2, y2"
   ]
  },
  {
   "cell_type": "code",
   "execution_count": 9,
   "metadata": {},
   "outputs": [],
   "source": [
    "# 计算点(x1,y1)到点(x2,y2)的距离\n",
    "def chordLength(x1, y1, x2, y2):\n",
    "    res = math.sqrt((x2 - x1) * (x2 - x1) + (y2 - y1) * (y2 - y1))\n",
    "    return res"
   ]
  },
  {
   "cell_type": "code",
   "execution_count": 10,
   "metadata": {},
   "outputs": [],
   "source": [
    "# 在 maxX, maxY的区域里随机选取一个点、以及随机一个夹角，计算概率\n",
    "def simulateBySelectOnePointAndDegree(\n",
    "    totalTryTimes, maxX, maxY, shouldPointInCircle=False\n",
    "):\n",
    "    r = 1.0\n",
    "    targetChordLengthSqure = 3 / 2  # (sqrt(3)/2) * (sqrt(3)/2) * 2\n",
    "    pCount = 0\n",
    "    hitCount = 0\n",
    "    falseCount = 0\n",
    "    for i in range(totalTryTimes):\n",
    "        x1 = random.uniform(-1.0 * maxX, 1.0 * maxX)\n",
    "        y1 = random.uniform(-1.0 * maxY, 1.0 * maxY)\n",
    "        if shouldPointInCircle == True:\n",
    "            if x1 * x1 + y1 * y1 > r * r:\n",
    "                continue\n",
    "        pCount += 1\n",
    "        theta = random.uniform(0, math.pi)\n",
    "        a, b, c = lineEquationByDotAndDegree(x1, y1, theta)\n",
    "        chordSqureResult = chordSquaredValue(a, b, c, r)\n",
    "        if chordSqureResult >= targetChordLengthSqure:\n",
    "            hitCount += 1\n",
    "        if chordSqureResult < 0:\n",
    "            falseCount += 1\n",
    "    #     print(\n",
    "    #         f\"循环{totalTryTimes}次, \\\n",
    "    # 采样{pCount}次, \\\n",
    "    # 满足条件{hitCount}次, \\\n",
    "    # 不相交{falseCount}次, \\\n",
    "    # 概率1: {hitCount/pCount} , \\\n",
    "    # 概率2: {hitCount/(pCount-falseCount)}\"\n",
    "    #     )\n",
    "    return (\n",
    "        totalTryTimes,\n",
    "        pCount,\n",
    "        hitCount,\n",
    "        falseCount,\n",
    "        hitCount / pCount,\n",
    "        hitCount / (pCount - falseCount),\n",
    "    )\n",
    "\n",
    "\n",
    "# 选取 x轴上的点，计算每一点的概率\n",
    "def calcPointProb(totalTryTimes, x1, y1):\n",
    "    r = 1.0\n",
    "    targetChordLengthSqure = 3 / 2  # (sqrt(3)/2) * (sqrt(3)/2) * 2\n",
    "    pCount = 0\n",
    "    hitCount = 0\n",
    "    falseCount = 0\n",
    "    for i in range(totalTryTimes):\n",
    "        pCount += 1\n",
    "        theta = random.uniform(0, math.pi)\n",
    "        a, b, c = lineEquationByDotAndDegree(x1, y1, theta)\n",
    "        chordSqureResult = chordSquaredValue(a, b, c, r)\n",
    "        if chordSqureResult >= targetChordLengthSqure:\n",
    "            hitCount += 1\n",
    "        if chordSqureResult < 0:\n",
    "            falseCount += 1\n",
    "    return (\n",
    "        totalTryTimes,\n",
    "        pCount,\n",
    "        hitCount,\n",
    "        falseCount,\n",
    "        hitCount / pCount,\n",
    "        hitCount / (pCount - falseCount),\n",
    "    )"
   ]
  },
  {
   "cell_type": "code",
   "execution_count": 11,
   "metadata": {},
   "outputs": [],
   "source": [
    "# 在 maxX, maxY的区域里采样，一个点在圆内计数/两个点都在圆内计数\n",
    "def simulateBySelectRandom2Points(\n",
    "    totalTryTimes,\n",
    "    maxX,\n",
    "    maxY,\n",
    "    atleastOnePointInCircle=False,\n",
    "    atleastTwoPointInCircle=False,\n",
    "):\n",
    "    r = 1.0\n",
    "    targetChordLengthSqure = 3 / 2  # (sqrt(3)/2) * (sqrt(3)/2) * 2\n",
    "    pCount = 0\n",
    "    hitCount = 0\n",
    "    falseCount = 0\n",
    "    for i in range(totalTryTimes):\n",
    "        x1 = random.uniform(-1.0 * maxX, 1.0 * maxX)\n",
    "        y1 = random.uniform(-1.0 * maxY, 1.0 * maxY)\n",
    "        x2 = random.uniform(-1.0 * maxX, 1.0 * maxX)\n",
    "        y2 = random.uniform(-1.0 * maxY, 1.0 * maxY)\n",
    "        # 两个点的任何一个位于圆外则跳过采样计数\n",
    "        if atleastTwoPointInCircle == True:\n",
    "            if x1 * x1 + y1 * y1 > r * r:\n",
    "                continue\n",
    "            if x2 * x2 + y2 * y2 > r * r:\n",
    "                continue\n",
    "        # 两个点都在圆外则跳过采样计数\n",
    "        if atleastOnePointInCircle == True:\n",
    "            if x1 * x1 + y1 * y1 > r * r and x2 * x2 + y2 * y2 > r * r:\n",
    "                continue\n",
    "        # 开始采样计数\n",
    "        pCount += 1\n",
    "        a, b, c = lineEquationByDots(x1, y1, x2, y2)\n",
    "        chordSqureResult = chordSquaredValue(a, b, c, r)\n",
    "        if chordSqureResult >= targetChordLengthSqure:\n",
    "            hitCount += 1\n",
    "        if chordSqureResult < 0:\n",
    "            falseCount += 1\n",
    "        pass\n",
    "    print(\n",
    "        f\"循环{totalTryTimes}次, \\\n",
    "采样{pCount}次, \\\n",
    "满足条件{hitCount}次, \\\n",
    "不相交{falseCount}次, \\\n",
    "概率1: {hitCount/pCount} , \\\n",
    "概率2: {hitCount/(pCount-falseCount)}\"\n",
    "    )\n",
    "    pass"
   ]
  },
  {
   "cell_type": "code",
   "execution_count": 12,
   "metadata": {},
   "outputs": [],
   "source": [
    "# 蒙特卡洛模拟每一点的概率\n",
    "def dotProbPDF(start, end, sampleCount, trytimes):\n",
    "    resDf = pd.DataFrame(np.linspace(start, end, sampleCount), columns=[\"X\"])\n",
    "    ddf = dd.from_pandas(resDf, npartitions=6)\n",
    "    ddf[\"Y\"] = ddf.apply(\n",
    "        lambda tmprow: calcPointProb(trytimes, tmprow[\"X\"], 0)[-2],\n",
    "        meta=(\"Y\", \"float64\"),\n",
    "        axis=1,\n",
    "    )\n",
    "    return ddf.compute()\n",
    "\n",
    "\n",
    "# 数学公式推导的概率\n",
    "def dotProbPDF2(start, end, sampleCount):\n",
    "    resDf = pd.DataFrame(np.linspace(start, end, sampleCount), columns=[\"X\"])\n",
    "    ddf = dd.from_pandas(resDf, npartitions=6)\n",
    "    ddf[\"Y\"] = ddf.apply(\n",
    "        lambda tmprow: math.asin(1.0 / (tmprow[\"X\"] * 2)) / math.pi * 2,\n",
    "        meta=(\"Y\", \"float64\"),\n",
    "        axis=1,\n",
    "    )\n",
    "    return ddf.compute()\n",
    "\n",
    "\n",
    "# 计算从0 - 无穷大处的概率\n",
    "def ConditionalPDF(distance):\n",
    "    if distance <= 0.5:\n",
    "        return 1\n",
    "    if distance <= 1:\n",
    "        return math.asin(1.0 / (distance * 2)) / math.pi * 2\n",
    "    return math.asin(1.0 / (distance * 2)) / math.asin(1.0 / distance)\n",
    "\n",
    "\n",
    "# 数学公式推到的条件概率\n",
    "# P = P(弦长大于根号3) / P(直线与圆相交)\n",
    "def dotProbPDF3(start, end, sampleCount):\n",
    "    resDf = pd.DataFrame(np.linspace(start, end, sampleCount), columns=[\"X\"])\n",
    "    ddf = dd.from_pandas(resDf, npartitions=6)\n",
    "    ddf[\"Y\"] = ddf.apply(\n",
    "        lambda tmprow: ConditionalPDF(tmprow[\"X\"]),\n",
    "        meta=(\"Y\", \"float64\"),\n",
    "        axis=1,\n",
    "    )\n",
    "    return ddf.compute()"
   ]
  },
  {
   "cell_type": "code",
   "execution_count": null,
   "metadata": {},
   "outputs": [],
   "source": [
    "np.seterr(\"raise\")\n",
    "# xs, ys = dotProbPDF(0,100,1000,100000)\n",
    "dfres = dotProbPDF(0.5, 1, 1000, 100000)"
   ]
  },
  {
   "cell_type": "code",
   "execution_count": null,
   "metadata": {},
   "outputs": [],
   "source": [
    "plt.figure(figsize=(16, 6))\n",
    "plt.plot(dfres[\"X\"], dfres[\"Y\"])\n",
    "plt.show()"
   ]
  },
  {
   "cell_type": "code",
   "execution_count": null,
   "metadata": {},
   "outputs": [],
   "source": [
    "dfres = dotProbPDF2(0.5, 1, 100)\n",
    "plt.figure(figsize=(16, 6))\n",
    "plt.plot(dfres[\"X\"], dfres[\"Y\"])\n",
    "plt.show()"
   ]
  },
  {
   "cell_type": "code",
   "execution_count": null,
   "metadata": {},
   "outputs": [],
   "source": [
    "dfres = dotProbPDF3(0, 5, 10000)\n",
    "plt.figure(figsize=(10, 6))\n",
    "plt.plot(dfres[\"X\"], dfres[\"Y\"])\n",
    "plt.show()"
   ]
  },
  {
   "cell_type": "code",
   "execution_count": null,
   "metadata": {},
   "outputs": [],
   "source": []
  },
  {
   "cell_type": "code",
   "execution_count": null,
   "metadata": {},
   "outputs": [],
   "source": []
  },
  {
   "cell_type": "code",
   "execution_count": null,
   "metadata": {},
   "outputs": [],
   "source": [
    "simulateBySelectRandom2Points(10000000, 100, 100, False, False)"
   ]
  },
  {
   "cell_type": "code",
   "execution_count": null,
   "metadata": {},
   "outputs": [],
   "source": [
    "simulateBySelectRandom2Points(1000000, 5, 5, True, True)"
   ]
  },
  {
   "cell_type": "code",
   "execution_count": null,
   "metadata": {},
   "outputs": [],
   "source": [
    "simulateBySelectRandom2Points(1000000, 5, 5, True, False)"
   ]
  },
  {
   "cell_type": "code",
   "execution_count": null,
   "metadata": {},
   "outputs": [],
   "source": [
    "simulateBySelectOnePointAndDegree(10000000, 5, 5, False)"
   ]
  }
 ],
 "metadata": {
  "kernelspec": {
   "display_name": "Python 3",
   "language": "python",
   "name": "python3"
  },
  "language_info": {
   "codemirror_mode": {
    "name": "ipython",
    "version": 3
   },
   "file_extension": ".py",
   "mimetype": "text/x-python",
   "name": "python",
   "nbconvert_exporter": "python",
   "pygments_lexer": "ipython3",
   "version": "3.8.5"
  }
 },
 "nbformat": 4,
 "nbformat_minor": 4
}
