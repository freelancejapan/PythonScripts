{
 "cells": [
  {
   "cell_type": "code",
   "execution_count": 1,
   "metadata": {},
   "outputs": [],
   "source": [
    "from datetime import datetime\n",
    "\n",
    "import matplotlib\n",
    "import matplotlib.patches as patches\n",
    "import matplotlib.pyplot as plt\n",
    "import numpy as np\n",
    "import pandas as pd\n",
    "\n",
    "globalMin = -20\n",
    "globalMax = 20\n",
    "globalDotCount = 20\n",
    "globalBoxSize = 5\n",
    "globalFigureSize = 14"
   ]
  },
  {
   "cell_type": "code",
   "execution_count": 2,
   "metadata": {},
   "outputs": [],
   "source": [
    "# 生成随机点\n",
    "def createUniformRandomDots(minVal, maxVal, count):\n",
    "    dots = np.random.default_rng().uniform(minVal, maxVal, (count, 2))\n",
    "    resdf = pd.DataFrame(dots, columns=[\"X\", \"Y\"])\n",
    "    plt.figure(figsize=(globalFigureSize, globalFigureSize))\n",
    "    plt.xlim([globalMin - globalBoxSize, globalMax + globalBoxSize])\n",
    "    plt.plot(resdf[\"X\"], resdf[\"Y\"], \".\")\n",
    "    plt.show()\n",
    "    return resdf"
   ]
  },
  {
   "cell_type": "code",
   "execution_count": 16,
   "metadata": {},
   "outputs": [],
   "source": [
    "# 设置每点所对应的方块\n",
    "def setBox(row, xy, boxSize, result):\n",
    "    if (\n",
    "        xy[0] <= row[\"X\"] < xy[0] + boxSize\n",
    "        and xy[1] <= row[\"Y\"] < xy[1] + boxSize\n",
    "        and len(row[\"BoxLoc\"]) == 0\n",
    "    ):\n",
    "        row[\"BoxLoc\"].append(xy[0])\n",
    "        row[\"BoxLoc\"].append(xy[1])\n",
    "        result.append((xy[0], xy[1]))\n",
    "\n",
    "\n",
    "# 计算所需方块 - 全区域随机生成正方块\n",
    "def calculateSurroundedBoxes(minVal, maxVal, dots, boxSize):\n",
    "    dots[\"BoxLoc\"] = dots.apply(lambda x: [], axis=1)\n",
    "    result = []\n",
    "    start = datetime.now()\n",
    "    rowCount = len(dots)\n",
    "    while True:\n",
    "        xyArray = np.random.default_rng().uniform(minVal, maxVal, 2)\n",
    "        dots.apply(lambda tmprow: setBox(tmprow, xyArray, boxSize, result), axis=1)\n",
    "        if dots[\"BoxLoc\"].map(lambda r: len(r)).sum() == rowCount * 2:\n",
    "            break\n",
    "    # print(\"running time :\", datetime.now() - start)\n",
    "    return result\n",
    "\n",
    "\n",
    "# 计算所需方块 - 围绕着每一个点随机生成正方块\n",
    "def calculateSurroundedBoxes2(minVal, maxVal, dots, boxSize):\n",
    "    dots[\"BoxLoc\"] = dots.apply(lambda x: [], axis=1)\n",
    "    result = []\n",
    "    start = datetime.now()\n",
    "    rowCount = len(dots)\n",
    "    while True:\n",
    "        # 遍历出第一个未设定正方块的点\n",
    "        tmpx = None\n",
    "        tmpy = None\n",
    "        for index, row in dots.iterrows():\n",
    "            if len(row[\"BoxLoc\"]) <= 0:\n",
    "                tmpx = row[\"X\"]\n",
    "                tmpy = row[\"Y\"]\n",
    "                break\n",
    "            pass\n",
    "\n",
    "        shiftArray = np.random.default_rng().uniform(0, globalBoxSize, 2)\n",
    "        tmpx = tmpx - shiftArray[0]\n",
    "        tmpy = tmpy - shiftArray[1]\n",
    "\n",
    "        for index, row in dots.iterrows():\n",
    "            if (\n",
    "                tmpx <= row[\"X\"] < tmpx + globalBoxSize\n",
    "                and tmpy <= row[\"Y\"] < tmpy + globalBoxSize\n",
    "                and len(row[\"BoxLoc\"]) <= 0\n",
    "            ):\n",
    "                row[\"BoxLoc\"].append(tmpx)\n",
    "                row[\"BoxLoc\"].append(tmpy)\n",
    "                result.append((tmpx, tmpy))\n",
    "            pass\n",
    "\n",
    "        if dots[\"BoxLoc\"].map(lambda r: len(r)).sum() == rowCount * 2:\n",
    "            break\n",
    "    # print(\"running time :\", datetime.now() - start)\n",
    "    return result\n",
    "\n",
    "\n",
    "# 根据点在x轴和y轴的投影信息计算正方形\n",
    "def calculateSurroundedBoxes3(dots):\n",
    "    # 清空正方形\n",
    "    dots[\"BoxLoc\"] = dots.apply(lambda x: [], axis=1)\n",
    "    dots[\"Siblings\"] = dots.apply(lambda x: [], axis=1)\n",
    "    dots[\"SibCount\"] = 0\n",
    "\n",
    "    # 计算每个点的相邻点\n",
    "    for index, row in dots.iterrows():\n",
    "        for tmpidx, tmprow in dots.iterrows():\n",
    "            if (\n",
    "                index != tmpidx\n",
    "                and abs(row[\"X\"] - tmprow[\"X\"]) < globalBoxSize\n",
    "                and abs(row[\"Y\"] - tmprow[\"Y\"]) < globalBoxSize\n",
    "            ):\n",
    "                row[\"Siblings\"].append(tmpidx)\n",
    "                pass\n",
    "            elif index == tmpidx:\n",
    "                row[\"Siblings\"].append(tmpidx)\n",
    "                pass\n",
    "            pass\n",
    "        dots.loc[index, \"SibCount\"] = len(row[\"Siblings\"])\n",
    "        pass\n",
    "    dots[\"SibCount\"] = dots.apply(lambda x: len(x[\"Siblings\"]), axis=1)\n",
    "    print(dots)\n",
    "\n",
    "    # 将pandas按照Siblings数组的长度从大到小排序，每次选中第一个数组\n",
    "    #  若选中的数组在属于结果list中任一元素的子集，则将此数组清空\n",
    "    #  否则，挨个遍历此数组，移除属于结果list中任一元素的数\n",
    "    resBoxList = []\n",
    "    while True:\n",
    "        if dots[\"SibCount\"].sum() == 0:\n",
    "            break\n",
    "        sort = dots.sort_values(\"SibCount\", ascending=False)\n",
    "        tmpbox = sort.iloc[0, 3]\n",
    "        # print(\"add from top\", tmpbox)\n",
    "        resBoxList.append(tmpbox.copy())\n",
    "        for index, row in sort.iterrows():\n",
    "            if len(row[\"Siblings\"]) == 0:\n",
    "                continue\n",
    "            else:\n",
    "                isSubset = False\n",
    "                for tmpitem in resBoxList:\n",
    "                    if set(row[\"Siblings\"]).issubset(set(tmpitem)):\n",
    "                        row[\"Siblings\"].clear()\n",
    "                        isSubset = True\n",
    "                        break\n",
    "                        pass\n",
    "                    pass\n",
    "                if isSubset:\n",
    "                    continue\n",
    "                else:\n",
    "                    toremove = []\n",
    "                    for tmpidx in row[\"Siblings\"]:\n",
    "                        for tmpitem in resBoxList:\n",
    "                            if tmpidx in tmpitem:\n",
    "                                toremove.append(tmpidx)\n",
    "                            pass\n",
    "                        pass\n",
    "                    for tmprm in toremove:\n",
    "                        row[\"Siblings\"].remove(tmprm)\n",
    "                    pass\n",
    "                pass\n",
    "            pass\n",
    "        # end of for\n",
    "        dots[\"SibCount\"] = dots.apply(lambda x: len(x[\"Siblings\"]), axis=1)\n",
    "    # end of while\n",
    "    results = []\n",
    "    print(\"##resBoxList\", resBoxList)\n",
    "    for tmpcluster in resBoxList:\n",
    "        tmpx = dots.loc[tmpcluster, \"X\"].sum() / len(tmpcluster)\n",
    "        tmpy = dots.loc[tmpcluster, \"Y\"].sum() / len(tmpcluster)\n",
    "        results.append((tmpx - globalBoxSize / 2, tmpy - globalBoxSize / 2))\n",
    "        pass\n",
    "    return results\n",
    "    pass\n",
    "\n",
    "\n",
    "def plotBox(samples, reslist):\n",
    "    fig, ax = plt.subplots(1, figsize=(globalFigureSize, globalFigureSize))\n",
    "    plt.xlim([globalMin - globalBoxSize, globalMax + globalBoxSize])\n",
    "    plt.ylim([globalMin - globalBoxSize, globalMax + globalBoxSize])\n",
    "    ax.plot(samples[\"X\"], samples[\"Y\"], \".\")\n",
    "    for index, row in samples.iterrows():\n",
    "        ax.annotate(str(index), (row[\"X\"], row[\"Y\"]))\n",
    "        pass\n",
    "    for tmpbox in reslist:\n",
    "        rect = patches.Rectangle(\n",
    "            (tmpbox[0], tmpbox[1]),\n",
    "            globalBoxSize,\n",
    "            globalBoxSize,\n",
    "            linewidth=1,\n",
    "            edgecolor=\"r\",\n",
    "            facecolor=\"r\",\n",
    "            fill=False,\n",
    "        )\n",
    "        ax.add_patch(rect)\n",
    "    plt.show()\n",
    "    pass"
   ]
  },
  {
   "cell_type": "code",
   "execution_count": 4,
   "metadata": {},
   "outputs": [
    {
     "data": {
      "image/png": "[encoded data removed]",
      "text/plain": [
       "<Figure size 1008x1008 with 1 Axes>"
      ]
     },
     "metadata": {
      "needs_background": "light"
     },
     "output_type": "display_data"
    }
   ],
   "source": [
    "samples = createUniformRandomDots(globalMin, globalMax, globalDotCount)"
   ]
  },
  {
   "cell_type": "code",
   "execution_count": 17,
   "metadata": {},
   "outputs": [
    {
     "name": "stdout",
     "output_type": "stream",
     "text": [
      "            X          Y BoxLoc             Siblings  SibCount\n",
      "0   14.598545  17.543219     []                  [0]         1\n",
      "1    8.094377  -3.696924     []           [1, 2, 13]         3\n",
      "2    6.885197  -2.326463     []       [1, 2, 13, 16]         4\n",
      "3    5.815296   7.073731     []    [3, 5, 6, 10, 17]         5\n",
      "4   19.303002 -11.028353     []                  [4]         1\n",
      "5    4.655212  11.967767     []        [3, 5, 6, 10]         4\n",
      "6    4.913763   8.776880     []        [3, 5, 6, 10]         4\n",
      "7   18.738506 -17.815226     []                  [7]         1\n",
      "8    1.490589 -13.653917     []                  [8]         1\n",
      "9    7.231479  17.592922     []                  [9]         1\n",
      "10   7.613674  11.767102     []    [3, 5, 6, 10, 12]         5\n",
      "11 -13.035084  -6.081940     []                 [11]         1\n",
      "12  12.604455   6.896842     []         [10, 12, 17]         3\n",
      "13   7.518439  -0.031565     []   [1, 2, 13, 16, 17]         5\n",
      "14  -0.598889   1.610118     []                 [14]         1\n",
      "15 -14.129436  -0.676203     []                 [15]         1\n",
      "16   5.882839   1.517483     []      [2, 13, 16, 17]         4\n",
      "17   8.222795   3.669490     []  [3, 12, 13, 16, 17]         5\n",
      "18  17.625570   2.962375     []                 [18]         1\n",
      "19 -13.974968  19.604353     []                 [19]         1\n",
      "##resBoxList [[3, 5, 6, 10, 12], [1, 2, 13, 16, 17], [0], [19], [18], [4], [15], [14], [7], [11], [8], [9]]\n"
     ]
    }
   ],
   "source": [
    "reslist = calculateSurroundedBoxes3(samples)"
   ]
  },
  {
   "cell_type": "code",
   "execution_count": 15,
   "metadata": {},
   "outputs": [
    {
     "data": {
      "image/png": "[encoded data removed]",
      "text/plain": [
       "<Figure size 1008x1008 with 1 Axes>"
      ]
     },
     "metadata": {
      "needs_background": "light"
     },
     "output_type": "display_data"
    }
   ],
   "source": [
    "plotBox(samples, reslist)"
   ]
  },
  {
   "cell_type": "code",
   "execution_count": null,
   "metadata": {},
   "outputs": [],
   "source": []
  },
  {
   "cell_type": "code",
   "execution_count": 7,
   "metadata": {},
   "outputs": [
    {
     "name": "stdout",
     "output_type": "stream",
     "text": [
      "Count of All boxes is 20\n"
     ]
    }
   ],
   "source": [
    "allboxes = calculateSurroundedBoxes2(globalMin, globalMax, samples, globalBoxSize)\n",
    "print(f\"Count of All boxes is {len(allboxes)}\")\n",
    "for tmpi in range(100):\n",
    "    tmpboxes = calculateSurroundedBoxes2(globalMin, globalMax, samples, globalBoxSize)\n",
    "    if len(tmpboxes) < len(allboxes):\n",
    "        print(f\"{len(allboxes)} --> {len(tmpboxes)}\")\n",
    "        allboxes = tmpboxes\n",
    "    else:\n",
    "        # print(f\"{set(tmpboxes) == set(allboxes)}\")\n",
    "        pass\n",
    "    pass"
   ]
  },
  {
   "cell_type": "code",
   "execution_count": 8,
   "metadata": {},
   "outputs": [
    {
     "data": {
      "image/png": "[encoded data removed]",
      "text/plain": [
       "<Figure size 1008x1008 with 1 Axes>"
      ]
     },
     "metadata": {
      "needs_background": "light"
     },
     "output_type": "display_data"
    }
   ],
   "source": [
    "plotBox(samples, allboxes)"
   ]
  },
  {
   "cell_type": "code",
   "execution_count": null,
   "metadata": {},
   "outputs": [],
   "source": []
  }
 ],
 "metadata": {
  "kernelspec": {
   "display_name": "Python 3",
   "language": "python",
   "name": "python3"
  },
  "language_info": {
   "codemirror_mode": {
    "name": "ipython",
    "version": 3
   },
   "file_extension": ".py",
   "mimetype": "text/x-python",
   "name": "python",
   "nbconvert_exporter": "python",
   "pygments_lexer": "ipython3",
   "version": "3.8.3"
  }
 },
 "nbformat": 4,
 "nbformat_minor": 4
}
