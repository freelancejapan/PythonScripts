{
 "cells": [
  {
   "cell_type": "code",
   "execution_count": null,
   "metadata": {},
   "outputs": [],
   "source": [
    "from datetime import datetime\n",
    "\n",
    "import matplotlib\n",
    "import matplotlib.pyplot as plt\n",
    "import numpy as np\n",
    "import pandas as pd"
   ]
  },
  {
   "cell_type": "code",
   "execution_count": null,
   "metadata": {},
   "outputs": [],
   "source": [
    "# 生成随机点\n",
    "def createUniformRandomDots(minVal, maxVal, count):\n",
    "    dots = np.random.default_rng().uniform(minVal, maxVal, (count, 2))\n",
    "    resdf = pd.DataFrame(dots, columns=[\"X\", \"Y\"])\n",
    "    plt.plot(resdf[\"X\"], resdf[\"Y\"], \".\")\n",
    "    plt.show()\n",
    "    return resdf"
   ]
  },
  {
   "cell_type": "code",
   "execution_count": null,
   "metadata": {},
   "outputs": [],
   "source": [
    "# 设置每点所对应的方块\n",
    "def setBox(row, xy, boxSize, result):\n",
    "    if (\n",
    "        xy[0] < row[\"X\"] < xy[0] + boxSize\n",
    "        and xy[1] < row[\"Y\"] < xy[1] + boxSize\n",
    "        and len(row[\"BoxLoc\"]) == 0\n",
    "    ):\n",
    "        row[\"BoxLoc\"].append(xy[0])\n",
    "        row[\"BoxLoc\"].append(xy[1])\n",
    "        result.append((xy[0], xy[1]))\n",
    "\n",
    "\n",
    "# 计算所需方块\n",
    "def calculateSurroundedBoxes(minVal, maxVal, dots, boxSize):\n",
    "    dots[\"BoxLoc\"] = dots.apply(lambda x: [], axis=1)\n",
    "    result = []\n",
    "    start = datetime.now()\n",
    "    rowCount = len(dots)\n",
    "    while True:\n",
    "        xyArray = np.random.default_rng().uniform(minVal, maxVal, 2)\n",
    "        dots.apply(lambda tmprow: setBox(tmprow, xyArray, boxSize, result), axis=1)\n",
    "        if dots[\"BoxLoc\"].map(lambda r: len(r)).sum() == rowCount * 2:\n",
    "            break\n",
    "    print(\"running time :\", datetime.now() - start)\n",
    "    return result"
   ]
  },
  {
   "cell_type": "code",
   "execution_count": null,
   "metadata": {},
   "outputs": [],
   "source": [
    "samples = createUniformRandomDots(-20, 20, 20)"
   ]
  },
  {
   "cell_type": "code",
   "execution_count": null,
   "metadata": {},
   "outputs": [],
   "source": [
    "calculateSurroundedBoxes(-20, 20, samples, 5)"
   ]
  },
  {
   "cell_type": "code",
   "execution_count": null,
   "metadata": {},
   "outputs": [],
   "source": []
  }
 ],
 "metadata": {
  "kernelspec": {
   "display_name": "Python 3.6.10 64-bit ('msbml': conda)",
   "language": "python",
   "name": "python361064bitmsbmlcondaae18c8c8c3d84d50a77685c53791e103"
  },
  "language_info": {
   "codemirror_mode": {
    "name": "ipython",
    "version": 3
   },
   "file_extension": ".py",
   "mimetype": "text/x-python",
   "name": "python",
   "nbconvert_exporter": "python",
   "pygments_lexer": "ipython3",
   "version": "3.6.10"
  }
 },
 "nbformat": 4,
 "nbformat_minor": 4
}
