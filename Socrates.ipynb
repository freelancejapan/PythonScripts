{
 "cells": [
  {
   "cell_type": "code",
   "execution_count": 1,
   "metadata": {},
   "outputs": [],
   "source": [
    "%load_ext lab_black"
   ]
  },
  {
   "cell_type": "code",
   "execution_count": 2,
   "metadata": {},
   "outputs": [],
   "source": [
    "import math\n",
    "import random\n",
    "import matplotlib\n",
    "import matplotlib.pyplot as plt\n",
    "import numpy as np\n",
    "import pandas as pd\n",
    "import dask.dataframe as dd"
   ]
  },
  {
   "cell_type": "code",
   "execution_count": 3,
   "metadata": {},
   "outputs": [],
   "source": [
    "# pass掉前K个候选，计算出最大值，从K+1开始，遇到的大于最大值的立即结束\n",
    "# 从K+1开始的时候，不更新最大值\n",
    "def calcIncome(k, itemlist):\n",
    "    currentMax = -1\n",
    "    income = 0\n",
    "    index = -1\n",
    "    for idx in range(len(itemlist)):\n",
    "        # 寻找 K个元素以内的最大值\n",
    "        if idx < k:\n",
    "            if itemlist[idx] > currentMax:\n",
    "                currentMax = itemlist[idx]\n",
    "            pass\n",
    "        else:\n",
    "            if itemlist[idx] > currentMax:\n",
    "                income = itemlist[idx]\n",
    "                index = idx\n",
    "                break\n",
    "            pass\n",
    "        pass\n",
    "    return income, index"
   ]
  },
  {
   "cell_type": "code",
   "execution_count": 56,
   "metadata": {},
   "outputs": [],
   "source": [
    "def calcDistribution(k, times, min_val=10, max_val=100, count=100):\n",
    "    reslist = []\n",
    "    normlist = []\n",
    "    for i in range(times):\n",
    "        lst = np.random.default_rng().uniform(min_val, max_val, count)\n",
    "        avg = np.average(lst)\n",
    "        income, idx = calcIncome(k, lst)\n",
    "        reslist.append(income)\n",
    "        normlist.append(income / avg)\n",
    "        pass\n",
    "    # s1 = pd.Series(reslist)\n",
    "    s2 = pd.Series(normlist)\n",
    "    # s1.plot.kde()\n",
    "    # print(s2.describe())\n",
    "    # s2.plot.kde()\n",
    "    return s2.mean(), s2.std()\n",
    "    pass"
   ]
  },
  {
   "cell_type": "code",
   "execution_count": 57,
   "metadata": {},
   "outputs": [
    {
     "data": {
      "text/plain": [
       "(1.4805121948501798, 0.4015888439672472)"
      ]
     },
     "execution_count": 57,
     "metadata": {},
     "output_type": "execute_result"
    }
   ],
   "source": [
    "calcDistribution(2, 10000, count=50)"
   ]
  },
  {
   "cell_type": "code",
   "execution_count": 66,
   "metadata": {},
   "outputs": [],
   "source": [
    "def calcTotalDistribution(count):\n",
    "    df = pd.DataFrame(list(range(1, count + 1)), columns=[\"PassCount\"])\n",
    "    ddf = dd.from_pandas(df, npartitions=6)\n",
    "    ddf[\"Result\"] = ddf.apply(\n",
    "        lambda tmprow: calcDistribution(tmprow[\"PassCount\"], 10000, count=count),\n",
    "        meta=(\"Y\", \"object\"),\n",
    "        axis=1,\n",
    "    )\n",
    "    return ddf.compute()"
   ]
  },
  {
   "cell_type": "code",
   "execution_count": 78,
   "metadata": {},
   "outputs": [],
   "source": [
    "resdf = calcTotalDistribution(1000)"
   ]
  },
  {
   "cell_type": "code",
   "execution_count": 79,
   "metadata": {},
   "outputs": [
    {
     "data": {
      "text/html": [
       "<div>\n",
       "<style scoped>\n",
       "    .dataframe tbody tr th:only-of-type {\n",
       "        vertical-align: middle;\n",
       "    }\n",
       "\n",
       "    .dataframe tbody tr th {\n",
       "        vertical-align: top;\n",
       "    }\n",
       "\n",
       "    .dataframe thead th {\n",
       "        text-align: right;\n",
       "    }\n",
       "</style>\n",
       "<table border=\"1\" class=\"dataframe\">\n",
       "  <thead>\n",
       "    <tr style=\"text-align: right;\">\n",
       "      <th></th>\n",
       "      <th>PassCount</th>\n",
       "      <th>Result</th>\n",
       "    </tr>\n",
       "  </thead>\n",
       "  <tbody>\n",
       "    <tr>\n",
       "      <th>0</th>\n",
       "      <td>1</td>\n",
       "      <td>(1.4094566542321652, 0.36628513584652)</td>\n",
       "    </tr>\n",
       "    <tr>\n",
       "      <th>1</th>\n",
       "      <td>2</td>\n",
       "      <td>(1.5457255883438006, 0.27987715354899156)</td>\n",
       "    </tr>\n",
       "    <tr>\n",
       "      <th>2</th>\n",
       "      <td>3</td>\n",
       "      <td>(1.6101020772338073, 0.23607010217555588)</td>\n",
       "    </tr>\n",
       "    <tr>\n",
       "      <th>3</th>\n",
       "      <td>4</td>\n",
       "      <td>(1.6454104312288993, 0.22044308477350555)</td>\n",
       "    </tr>\n",
       "    <tr>\n",
       "      <th>4</th>\n",
       "      <td>5</td>\n",
       "      <td>(1.6738255513725568, 0.20020776653504463)</td>\n",
       "    </tr>\n",
       "    <tr>\n",
       "      <th>...</th>\n",
       "      <td>...</td>\n",
       "      <td>...</td>\n",
       "    </tr>\n",
       "    <tr>\n",
       "      <th>995</th>\n",
       "      <td>996</td>\n",
       "      <td>(0.007499193930816804, 0.11689260838512247)</td>\n",
       "    </tr>\n",
       "    <tr>\n",
       "      <th>996</th>\n",
       "      <td>997</td>\n",
       "      <td>(0.00508489076738562, 0.09597368004311758)</td>\n",
       "    </tr>\n",
       "    <tr>\n",
       "      <th>997</th>\n",
       "      <td>998</td>\n",
       "      <td>(0.002548752433814139, 0.06807809447004065)</td>\n",
       "    </tr>\n",
       "    <tr>\n",
       "      <th>998</th>\n",
       "      <td>999</td>\n",
       "      <td>(0.0028922275134195922, 0.07225773647603553)</td>\n",
       "    </tr>\n",
       "    <tr>\n",
       "      <th>999</th>\n",
       "      <td>1000</td>\n",
       "      <td>(0.0, 0.0)</td>\n",
       "    </tr>\n",
       "  </tbody>\n",
       "</table>\n",
       "<p>1000 rows × 2 columns</p>\n",
       "</div>"
      ],
      "text/plain": [
       "     PassCount                                        Result\n",
       "0            1        (1.4094566542321652, 0.36628513584652)\n",
       "1            2     (1.5457255883438006, 0.27987715354899156)\n",
       "2            3     (1.6101020772338073, 0.23607010217555588)\n",
       "3            4     (1.6454104312288993, 0.22044308477350555)\n",
       "4            5     (1.6738255513725568, 0.20020776653504463)\n",
       "..         ...                                           ...\n",
       "995        996   (0.007499193930816804, 0.11689260838512247)\n",
       "996        997    (0.00508489076738562, 0.09597368004311758)\n",
       "997        998   (0.002548752433814139, 0.06807809447004065)\n",
       "998        999  (0.0028922275134195922, 0.07225773647603553)\n",
       "999       1000                                    (0.0, 0.0)\n",
       "\n",
       "[1000 rows x 2 columns]"
      ]
     },
     "execution_count": 79,
     "metadata": {},
     "output_type": "execute_result"
    }
   ],
   "source": [
    "resdf"
   ]
  },
  {
   "cell_type": "code",
   "execution_count": 80,
   "metadata": {},
   "outputs": [],
   "source": [
    "resdf[[\"income\", \"std\"]] = pd.DataFrame(resdf[\"Result\"].tolist(), index=resdf.index)"
   ]
  },
  {
   "cell_type": "code",
   "execution_count": 81,
   "metadata": {},
   "outputs": [
    {
     "data": {
      "text/html": [
       "<div>\n",
       "<style scoped>\n",
       "    .dataframe tbody tr th:only-of-type {\n",
       "        vertical-align: middle;\n",
       "    }\n",
       "\n",
       "    .dataframe tbody tr th {\n",
       "        vertical-align: top;\n",
       "    }\n",
       "\n",
       "    .dataframe thead th {\n",
       "        text-align: right;\n",
       "    }\n",
       "</style>\n",
       "<table border=\"1\" class=\"dataframe\">\n",
       "  <thead>\n",
       "    <tr style=\"text-align: right;\">\n",
       "      <th></th>\n",
       "      <th>PassCount</th>\n",
       "      <th>Result</th>\n",
       "      <th>income</th>\n",
       "      <th>std</th>\n",
       "    </tr>\n",
       "  </thead>\n",
       "  <tbody>\n",
       "    <tr>\n",
       "      <th>0</th>\n",
       "      <td>1</td>\n",
       "      <td>(1.4094566542321652, 0.36628513584652)</td>\n",
       "      <td>1.409457</td>\n",
       "      <td>0.366285</td>\n",
       "    </tr>\n",
       "    <tr>\n",
       "      <th>1</th>\n",
       "      <td>2</td>\n",
       "      <td>(1.5457255883438006, 0.27987715354899156)</td>\n",
       "      <td>1.545726</td>\n",
       "      <td>0.279877</td>\n",
       "    </tr>\n",
       "    <tr>\n",
       "      <th>2</th>\n",
       "      <td>3</td>\n",
       "      <td>(1.6101020772338073, 0.23607010217555588)</td>\n",
       "      <td>1.610102</td>\n",
       "      <td>0.236070</td>\n",
       "    </tr>\n",
       "    <tr>\n",
       "      <th>3</th>\n",
       "      <td>4</td>\n",
       "      <td>(1.6454104312288993, 0.22044308477350555)</td>\n",
       "      <td>1.645410</td>\n",
       "      <td>0.220443</td>\n",
       "    </tr>\n",
       "    <tr>\n",
       "      <th>4</th>\n",
       "      <td>5</td>\n",
       "      <td>(1.6738255513725568, 0.20020776653504463)</td>\n",
       "      <td>1.673826</td>\n",
       "      <td>0.200208</td>\n",
       "    </tr>\n",
       "    <tr>\n",
       "      <th>...</th>\n",
       "      <td>...</td>\n",
       "      <td>...</td>\n",
       "      <td>...</td>\n",
       "      <td>...</td>\n",
       "    </tr>\n",
       "    <tr>\n",
       "      <th>995</th>\n",
       "      <td>996</td>\n",
       "      <td>(0.007499193930816804, 0.11689260838512247)</td>\n",
       "      <td>0.007499</td>\n",
       "      <td>0.116893</td>\n",
       "    </tr>\n",
       "    <tr>\n",
       "      <th>996</th>\n",
       "      <td>997</td>\n",
       "      <td>(0.00508489076738562, 0.09597368004311758)</td>\n",
       "      <td>0.005085</td>\n",
       "      <td>0.095974</td>\n",
       "    </tr>\n",
       "    <tr>\n",
       "      <th>997</th>\n",
       "      <td>998</td>\n",
       "      <td>(0.002548752433814139, 0.06807809447004065)</td>\n",
       "      <td>0.002549</td>\n",
       "      <td>0.068078</td>\n",
       "    </tr>\n",
       "    <tr>\n",
       "      <th>998</th>\n",
       "      <td>999</td>\n",
       "      <td>(0.0028922275134195922, 0.07225773647603553)</td>\n",
       "      <td>0.002892</td>\n",
       "      <td>0.072258</td>\n",
       "    </tr>\n",
       "    <tr>\n",
       "      <th>999</th>\n",
       "      <td>1000</td>\n",
       "      <td>(0.0, 0.0)</td>\n",
       "      <td>0.000000</td>\n",
       "      <td>0.000000</td>\n",
       "    </tr>\n",
       "  </tbody>\n",
       "</table>\n",
       "<p>1000 rows × 4 columns</p>\n",
       "</div>"
      ],
      "text/plain": [
       "     PassCount                                        Result    income  \\\n",
       "0            1        (1.4094566542321652, 0.36628513584652)  1.409457   \n",
       "1            2     (1.5457255883438006, 0.27987715354899156)  1.545726   \n",
       "2            3     (1.6101020772338073, 0.23607010217555588)  1.610102   \n",
       "3            4     (1.6454104312288993, 0.22044308477350555)  1.645410   \n",
       "4            5     (1.6738255513725568, 0.20020776653504463)  1.673826   \n",
       "..         ...                                           ...       ...   \n",
       "995        996   (0.007499193930816804, 0.11689260838512247)  0.007499   \n",
       "996        997    (0.00508489076738562, 0.09597368004311758)  0.005085   \n",
       "997        998   (0.002548752433814139, 0.06807809447004065)  0.002549   \n",
       "998        999  (0.0028922275134195922, 0.07225773647603553)  0.002892   \n",
       "999       1000                                    (0.0, 0.0)  0.000000   \n",
       "\n",
       "          std  \n",
       "0    0.366285  \n",
       "1    0.279877  \n",
       "2    0.236070  \n",
       "3    0.220443  \n",
       "4    0.200208  \n",
       "..        ...  \n",
       "995  0.116893  \n",
       "996  0.095974  \n",
       "997  0.068078  \n",
       "998  0.072258  \n",
       "999  0.000000  \n",
       "\n",
       "[1000 rows x 4 columns]"
      ]
     },
     "execution_count": 81,
     "metadata": {},
     "output_type": "execute_result"
    }
   ],
   "source": [
    "resdf"
   ]
  },
  {
   "cell_type": "code",
   "execution_count": 77,
   "metadata": {},
   "outputs": [
    {
     "data": {
      "text/plain": [
       "<AxesSubplot:xlabel='PassCount'>"
      ]
     },
     "execution_count": 77,
     "metadata": {},
     "output_type": "execute_result"
    },
    {
     "data": {
      "image/png": "[encoded data removed]",
      "text/plain": [
       "<Figure size 576x432 with 1 Axes>"
      ]
     },
     "metadata": {
      "needs_background": "light"
     },
     "output_type": "display_data"
    }
   ],
   "source": [
    "resdf.plot(x=\"PassCount\", y=[\"income\", \"std\"], figsize=(8, 6))"
   ]
  },
  {
   "cell_type": "code",
   "execution_count": 82,
   "metadata": {},
   "outputs": [
    {
     "data": {
      "text/plain": [
       "<AxesSubplot:xlabel='PassCount'>"
      ]
     },
     "execution_count": 82,
     "metadata": {},
     "output_type": "execute_result"
    },
    {
     "data": {
      "image/png": "[encoded data removed]",
      "text/plain": [
       "<Figure size 576x432 with 1 Axes>"
      ]
     },
     "metadata": {
      "needs_background": "light"
     },
     "output_type": "display_data"
    }
   ],
   "source": [
    "resdf.plot(x=\"PassCount\", y=[\"income\", \"std\"], figsize=(8, 6))"
   ]
  },
  {
   "cell_type": "code",
   "execution_count": null,
   "metadata": {},
   "outputs": [],
   "source": []
  }
 ],
 "metadata": {
  "kernelspec": {
   "display_name": "Python 3",
   "language": "python",
   "name": "python3"
  },
  "language_info": {
   "codemirror_mode": {
    "name": "ipython",
    "version": 3
   },
   "file_extension": ".py",
   "mimetype": "text/x-python",
   "name": "python",
   "nbconvert_exporter": "python",
   "pygments_lexer": "ipython3",
   "version": "3.8.5"
  }
 },
 "nbformat": 4,
 "nbformat_minor": 4
}
