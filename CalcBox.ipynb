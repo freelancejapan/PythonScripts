{
 "cells": [
  {
   "cell_type": "code",
   "execution_count": null,
   "metadata": {},
   "outputs": [],
   "source": [
    "from datetime import datetime\n",
    "import matplotlib.patches as patches\n",
    "import matplotlib\n",
    "import matplotlib.pyplot as plt\n",
    "import numpy as np\n",
    "import pandas as pd\n",
    "\n",
    "globalMin = -20\n",
    "globalMax = 20\n",
    "globalDotCount = 20\n",
    "globalBoxSize = 5\n",
    "globalFigureSize = 14"
   ]
  },
  {
   "cell_type": "code",
   "execution_count": null,
   "metadata": {},
   "outputs": [],
   "source": [
    "# 生成随机点\n",
    "def createUniformRandomDots(minVal, maxVal, count):\n",
    "    dots = np.random.default_rng().uniform(minVal, maxVal, (count, 2))\n",
    "    resdf = pd.DataFrame(dots, columns=[\"X\", \"Y\"])\n",
    "    plt.figure(figsize=(globalFigureSize,globalFigureSize))\n",
    "    plt.xlim([globalMin - globalBoxSize, globalMax + globalBoxSize])\n",
    "    plt.plot(resdf[\"X\"], resdf[\"Y\"], \".\")\n",
    "    plt.show()\n",
    "    return resdf"
   ]
  },
  {
   "cell_type": "code",
   "execution_count": null,
   "metadata": {},
   "outputs": [],
   "source": [
    "# 设置每点所对应的方块\n",
    "def setBox(row, xy, boxSize, result):\n",
    "    if (\n",
    "        xy[0] <= row[\"X\"] < xy[0] + boxSize\n",
    "        and xy[1] <= row[\"Y\"] < xy[1] + boxSize\n",
    "        and len(row[\"BoxLoc\"]) == 0\n",
    "    ):\n",
    "        row[\"BoxLoc\"].append(xy[0])\n",
    "        row[\"BoxLoc\"].append(xy[1])\n",
    "        result.append((xy[0], xy[1]))\n",
    "\n",
    "\n",
    "# 计算所需方块 - 全区域随机生成正方块\n",
    "def calculateSurroundedBoxes(minVal, maxVal, dots, boxSize):\n",
    "    dots[\"BoxLoc\"] = dots.apply(lambda x: [], axis=1)\n",
    "    result = []\n",
    "    start = datetime.now()\n",
    "    rowCount = len(dots)\n",
    "    while True:\n",
    "        xyArray = np.random.default_rng().uniform(minVal, maxVal, 2)\n",
    "        dots.apply(lambda tmprow: setBox(tmprow, xyArray, boxSize, result), axis=1)\n",
    "        if dots[\"BoxLoc\"].map(lambda r: len(r)).sum() == rowCount * 2:\n",
    "            break\n",
    "    #print(\"running time :\", datetime.now() - start)\n",
    "    return result\n",
    "\n",
    "# 计算所需方块 - 围绕着每一个点随机生成正方块\n",
    "def calculateSurroundedBoxes2(minVal, maxVal, dots, boxSize):\n",
    "    dots[\"BoxLoc\"] = dots.apply(lambda x: [], axis=1)\n",
    "    result = []\n",
    "    start = datetime.now()\n",
    "    rowCount = len(dots)\n",
    "    while True:\n",
    "        #遍历出第一个未设定正方块的点\n",
    "        tmpx = None\n",
    "        tmpy = None\n",
    "        for index, row in dots.iterrows():\n",
    "            if len(row['BoxLoc']) <= 0:\n",
    "                tmpx = row['X']\n",
    "                tmpy = row['Y']\n",
    "                break\n",
    "            pass\n",
    "        \n",
    "        shiftArray = np.random.default_rng().uniform(0, globalBoxSize, 2)\n",
    "        tmpx = tmpx - shiftArray[0]\n",
    "        tmpy = tmpy - shiftArray[1]\n",
    "        \n",
    "        for index, row in dots.iterrows():\n",
    "            if tmpx <= row[\"X\"] < tmpx + globalBoxSize and tmpy <= row[\"Y\"] < tmpy + globalBoxSize and len(row['BoxLoc']) <= 0:\n",
    "                row[\"BoxLoc\"].append(tmpx)\n",
    "                row[\"BoxLoc\"].append(tmpy)\n",
    "                result.append((tmpx, tmpy))\n",
    "            pass\n",
    "        \n",
    "        if dots[\"BoxLoc\"].map(lambda r: len(r)).sum() == rowCount * 2:\n",
    "            break\n",
    "    #print(\"running time :\", datetime.now() - start)\n",
    "    return result"
   ]
  },
  {
   "cell_type": "code",
   "execution_count": null,
   "metadata": {},
   "outputs": [],
   "source": [
    "samples = createUniformRandomDots(globalMin, globalMax, globalDotCount)"
   ]
  },
  {
   "cell_type": "code",
   "execution_count": null,
   "metadata": {},
   "outputs": [],
   "source": [
    "allboxes = calculateSurroundedBoxes2(globalMin, globalMax, samples, globalBoxSize)\n",
    "print(f\"Count of All boxes is {len(allboxes)}\")\n",
    "for tmpi in range(100000):\n",
    "    tmpboxes = calculateSurroundedBoxes2(globalMin, globalMax, samples, globalBoxSize)\n",
    "    if len(tmpboxes) < len(allboxes):\n",
    "        print(f\"{len(allboxes)} --> {len(tmpboxes)}\")\n",
    "        allboxes = tmpboxes\n",
    "    else:\n",
    "        #print(f\"{set(tmpboxes) == set(allboxes)}\")\n",
    "        pass\n",
    "    pass"
   ]
  },
  {
   "cell_type": "code",
   "execution_count": null,
   "metadata": {},
   "outputs": [],
   "source": [
    "fig,ax = plt.subplots(1,figsize=(globalFigureSize,globalFigureSize))\n",
    "plt.xlim([globalMin - globalBoxSize, globalMax + globalBoxSize])\n",
    "plt.ylim([globalMin - globalBoxSize, globalMax + globalBoxSize])\n",
    "ax.plot(samples[\"X\"], samples[\"Y\"], \".\")\n",
    "for tmpbox in allboxes:\n",
    "    rect = patches.Rectangle((tmpbox[0],tmpbox[1]),globalBoxSize,globalBoxSize,linewidth=1,edgecolor='r',facecolor='r', fill=False)\n",
    "    ax.add_patch(rect)\n",
    "\n",
    "plt.show()"
   ]
  },
  {
   "cell_type": "code",
   "execution_count": null,
   "metadata": {},
   "outputs": [],
   "source": [
    "fig,ax = plt.subplots(1,figsize=(globalFigureSize,globalFigureSize))\n",
    "plt.xlim([globalMin - globalBoxSize, globalMax + globalBoxSize])\n",
    "plt.ylim([globalMin - globalBoxSize, globalMax + globalBoxSize])\n",
    "ax.plot(samples[\"X\"], samples[\"Y\"], \".\")\n",
    "for tmpbox in allboxes:\n",
    "    rect = patches.Rectangle((tmpbox[0],tmpbox[1]),globalBoxSize,globalBoxSize,linewidth=1,edgecolor='r',facecolor='r', fill=False)\n",
    "    ax.add_patch(rect)\n",
    "\n",
    "plt.show()"
   ]
  },
  {
   "cell_type": "code",
   "execution_count": null,
   "metadata": {},
   "outputs": [],
   "source": []
  },
  {
   "cell_type": "code",
   "execution_count": null,
   "metadata": {},
   "outputs": [],
   "source": []
  }
 ],
 "metadata": {
  "kernelspec": {
   "display_name": "Python 3",
   "language": "python",
   "name": "python3"
  },
  "language_info": {
   "codemirror_mode": {
    "name": "ipython",
    "version": 3
   },
   "file_extension": ".py",
   "mimetype": "text/x-python",
   "name": "python",
   "nbconvert_exporter": "python",
   "pygments_lexer": "ipython3",
   "version": "3.8.5"
  }
 },
 "nbformat": 4,
 "nbformat_minor": 4
}
